{
 "cells": [
  {
   "cell_type": "markdown",
   "metadata": {},
   "source": [
    "# Analysis of Yelp Dataset"
   ]
  },
  {
   "cell_type": "markdown",
   "metadata": {},
   "source": [
    "#### I will analyze Yelp dataset. This dataset is downloaded from [Kaggle](https://www.kaggle.com/yelp-dataset/yelp-dataset) and uploaded to my S3 bucket."
   ]
  },
  {
   "cell_type": "markdown",
   "metadata": {},
   "source": [
    "## Part I: Installation and Initial Setup"
   ]
  },
  {
   "cell_type": "code",
   "execution_count": 1,
   "metadata": {},
   "outputs": [
    {
     "data": {
      "text/html": [
       "Current session configs: <tt>{'conf': {'spark.pyspark.python': 'python3', 'spark.pyspark.virtualenv.enabled': 'true', 'spark.pyspark.virtualenv.type': 'native', 'spark.pyspark.virtualenv.bin.path': '/usr/bin/virtualenv'}, 'kind': 'pyspark'}</tt><br>"
      ],
      "text/plain": [
       "<IPython.core.display.HTML object>"
      ]
     },
     "metadata": {},
     "output_type": "display_data"
    },
    {
     "data": {
      "text/html": [
       "No active sessions."
      ],
      "text/plain": [
       "<IPython.core.display.HTML object>"
      ]
     },
     "metadata": {},
     "output_type": "display_data"
    }
   ],
   "source": [
    "%%info"
   ]
  },
  {
   "cell_type": "code",
   "execution_count": 2,
   "metadata": {},
   "outputs": [
    {
     "data": {
      "application/vnd.jupyter.widget-view+json": {
       "model_id": "06831af556604b88ac75bb9d0264ed54",
       "version_major": 2,
       "version_minor": 0
      },
      "text/plain": [
       "VBox()"
      ]
     },
     "metadata": {},
     "output_type": "display_data"
    },
    {
     "name": "stdout",
     "output_type": "stream",
     "text": [
      "Starting Spark application\n"
     ]
    },
    {
     "data": {
      "text/html": [
       "<table>\n",
       "<tr><th>ID</th><th>YARN Application ID</th><th>Kind</th><th>State</th><th>Spark UI</th><th>Driver log</th><th>Current session?</th></tr><tr><td>11</td><td>application_1606143194499_0012</td><td>pyspark</td><td>idle</td><td><a target=\"_blank\" href=\"http://ip-172-31-4-159.us-east-2.compute.internal:20888/proxy/application_1606143194499_0012/\">Link</a></td><td><a target=\"_blank\" href=\"http://ip-172-31-5-90.us-east-2.compute.internal:8042/node/containerlogs/container_1606143194499_0012_01_000001/livy\">Link</a></td><td>✔</td></tr></table>"
      ],
      "text/plain": [
       "<IPython.core.display.HTML object>"
      ]
     },
     "metadata": {},
     "output_type": "display_data"
    },
    {
     "data": {
      "application/vnd.jupyter.widget-view+json": {
       "model_id": "",
       "version_major": 2,
       "version_minor": 0
      },
      "text/plain": [
       "FloatProgress(value=0.0, bar_style='info', description='Progress:', layout=Layout(height='25px', width='50%'),…"
      ]
     },
     "metadata": {},
     "output_type": "display_data"
    },
    {
     "name": "stdout",
     "output_type": "stream",
     "text": [
      "SparkSession available as 'spark'.\n"
     ]
    },
    {
     "data": {
      "application/vnd.jupyter.widget-view+json": {
       "model_id": "",
       "version_major": 2,
       "version_minor": 0
      },
      "text/plain": [
       "FloatProgress(value=0.0, bar_style='info', description='Progress:', layout=Layout(height='25px', width='50%'),…"
      ]
     },
     "metadata": {},
     "output_type": "display_data"
    },
    {
     "name": "stdout",
     "output_type": "stream",
     "text": [
      "Package                    Version  \n",
      "-------------------------- ---------\n",
      "beautifulsoup4             4.9.1    \n",
      "boto                       2.49.0   \n",
      "click                      7.1.2    \n",
      "jmespath                   0.10.0   \n",
      "joblib                     0.16.0   \n",
      "lxml                       4.5.2    \n",
      "mysqlclient                1.4.2    \n",
      "nltk                       3.5      \n",
      "nose                       1.3.4    \n",
      "numpy                      1.16.5   \n",
      "pip                        9.0.1    \n",
      "py-dateutil                2.2      \n",
      "python37-sagemaker-pyspark 1.4.0    \n",
      "pytz                       2020.1   \n",
      "PyYAML                     5.3.1    \n",
      "regex                      2020.7.14\n",
      "setuptools                 28.8.0   \n",
      "six                        1.13.0   \n",
      "soupsieve                  1.9.5    \n",
      "tqdm                       4.48.2   \n",
      "wheel                      0.29.0   \n",
      "windmill                   1.6"
     ]
    }
   ],
   "source": [
    "# check currently installed packages\n",
    "sc.list_packages()"
   ]
  },
  {
   "cell_type": "code",
   "execution_count": 3,
   "metadata": {},
   "outputs": [
    {
     "data": {
      "application/vnd.jupyter.widget-view+json": {
       "model_id": "74a5dd4e381949fe80f82d4f21661f20",
       "version_major": 2,
       "version_minor": 0
      },
      "text/plain": [
       "VBox()"
      ]
     },
     "metadata": {},
     "output_type": "display_data"
    },
    {
     "data": {
      "application/vnd.jupyter.widget-view+json": {
       "model_id": "",
       "version_major": 2,
       "version_minor": 0
      },
      "text/plain": [
       "FloatProgress(value=0.0, bar_style='info', description='Progress:', layout=Layout(height='25px', width='50%'),…"
      ]
     },
     "metadata": {},
     "output_type": "display_data"
    },
    {
     "name": "stdout",
     "output_type": "stream",
     "text": [
      "Collecting pandas==1.0.3\n",
      "  Using cached https://files.pythonhosted.org/packages/4a/6a/94b219b8ea0f2d580169e85ed1edc0163743f55aaeca8a44c2e8fc1e344e/pandas-1.0.3-cp37-cp37m-manylinux1_x86_64.whl\n",
      "Requirement already satisfied: pytz>=2017.2 in /usr/local/lib/python3.7/site-packages (from pandas==1.0.3)\n",
      "Requirement already satisfied: numpy>=1.13.3 in /usr/local/lib64/python3.7/site-packages (from pandas==1.0.3)\n",
      "Collecting python-dateutil>=2.6.1 (from pandas==1.0.3)\n",
      "  Using cached https://files.pythonhosted.org/packages/d4/70/d60450c3dd48ef87586924207ae8907090de0b306af2bce5d134d78615cb/python_dateutil-2.8.1-py2.py3-none-any.whl\n",
      "Requirement already satisfied: six>=1.5 in /usr/local/lib/python3.7/site-packages (from python-dateutil>=2.6.1->pandas==1.0.3)\n",
      "Installing collected packages: python-dateutil, pandas\n",
      "Successfully installed pandas-1.0.3 python-dateutil-2.8.1\n",
      "\n",
      "Collecting matplotlib==3.2.1\n",
      "  Using cached https://files.pythonhosted.org/packages/b2/c2/71fcf957710f3ba1f09088b35776a799ba7dd95f7c2b195ec800933b276b/matplotlib-3.2.1-cp37-cp37m-manylinux1_x86_64.whl\n",
      "Requirement already satisfied: python-dateutil>=2.1 in /mnt/tmp/1606254383641-0/lib/python3.7/site-packages (from matplotlib==3.2.1)\n",
      "Collecting pyparsing!=2.0.4,!=2.1.2,!=2.1.6,>=2.0.1 (from matplotlib==3.2.1)\n",
      "  Using cached https://files.pythonhosted.org/packages/8a/bb/488841f56197b13700afd5658fc279a2025a39e22449b7cf29864669b15d/pyparsing-2.4.7-py2.py3-none-any.whl\n",
      "Collecting cycler>=0.10 (from matplotlib==3.2.1)\n",
      "  Using cached https://files.pythonhosted.org/packages/f7/d2/e07d3ebb2bd7af696440ce7e754c59dd546ffe1bbe732c8ab68b9c834e61/cycler-0.10.0-py2.py3-none-any.whl\n",
      "Requirement already satisfied: numpy>=1.11 in /usr/local/lib64/python3.7/site-packages (from matplotlib==3.2.1)\n",
      "Collecting kiwisolver>=1.0.1 (from matplotlib==3.2.1)\n",
      "  Using cached https://files.pythonhosted.org/packages/d2/46/231de802ade4225b76b96cffe419cf3ce52bbe92e3b092cf12db7d11c207/kiwisolver-1.3.1-cp37-cp37m-manylinux1_x86_64.whl\n",
      "Requirement already satisfied: six>=1.5 in /usr/local/lib/python3.7/site-packages (from python-dateutil>=2.1->matplotlib==3.2.1)\n",
      "Installing collected packages: pyparsing, cycler, kiwisolver, matplotlib\n",
      "Successfully installed cycler-0.10.0 kiwisolver-1.3.1 matplotlib-3.2.1 pyparsing-2.4.7\n",
      "\n",
      "Collecting seaborn==0.10.0\n",
      "  Downloading https://files.pythonhosted.org/packages/70/bd/5e6bf595fe6ee0f257ae49336dd180768c1ed3d7c7155b2fdf894c1c808a/seaborn-0.10.0-py3-none-any.whl (215kB)\n",
      "Requirement already satisfied: pandas>=0.22.0 in /mnt/tmp/1606254383641-0/lib/python3.7/site-packages (from seaborn==0.10.0)\n",
      "Requirement already satisfied: numpy>=1.13.3 in /usr/local/lib64/python3.7/site-packages (from seaborn==0.10.0)\n",
      "Collecting scipy>=1.0.1 (from seaborn==0.10.0)\n",
      "  Using cached https://files.pythonhosted.org/packages/dc/7e/8f6a79b102ca1ea928bae8998b05bf5dc24a90571db13cd119f275ba6252/scipy-1.5.4-cp37-cp37m-manylinux1_x86_64.whl\n",
      "Requirement already satisfied: matplotlib>=2.1.2 in /mnt/tmp/1606254383641-0/lib/python3.7/site-packages (from seaborn==0.10.0)\n",
      "Requirement already satisfied: pytz>=2017.2 in /usr/local/lib/python3.7/site-packages (from pandas>=0.22.0->seaborn==0.10.0)\n",
      "Requirement already satisfied: python-dateutil>=2.6.1 in /mnt/tmp/1606254383641-0/lib/python3.7/site-packages (from pandas>=0.22.0->seaborn==0.10.0)\n",
      "Requirement already satisfied: pyparsing!=2.0.4,!=2.1.2,!=2.1.6,>=2.0.1 in /mnt/tmp/1606254383641-0/lib/python3.7/site-packages (from matplotlib>=2.1.2->seaborn==0.10.0)\n",
      "Requirement already satisfied: cycler>=0.10 in /mnt/tmp/1606254383641-0/lib/python3.7/site-packages (from matplotlib>=2.1.2->seaborn==0.10.0)\n",
      "Requirement already satisfied: kiwisolver>=1.0.1 in /mnt/tmp/1606254383641-0/lib/python3.7/site-packages (from matplotlib>=2.1.2->seaborn==0.10.0)\n",
      "Requirement already satisfied: six>=1.5 in /usr/local/lib/python3.7/site-packages (from python-dateutil>=2.6.1->pandas>=0.22.0->seaborn==0.10.0)\n",
      "Installing collected packages: scipy, seaborn\n",
      "Successfully installed scipy-1.5.4 seaborn-0.10.0"
     ]
    }
   ],
   "source": [
    "# install and update necessary dependencies (pandas, matplotlib, searborn, and numpy)\n",
    "sc.install_pypi_package(\"pandas==1.0.3\")\n",
    "sc.install_pypi_package(\"matplotlib==3.2.1\")\n",
    "sc.install_pypi_package(\"seaborn==0.10.0\")"
   ]
  },
  {
   "cell_type": "markdown",
   "metadata": {},
   "source": [
    "### Importing Packages"
   ]
  },
  {
   "cell_type": "code",
   "execution_count": 4,
   "metadata": {},
   "outputs": [
    {
     "data": {
      "application/vnd.jupyter.widget-view+json": {
       "model_id": "94f0612c39b24def90475a4c25b073f9",
       "version_major": 2,
       "version_minor": 0
      },
      "text/plain": [
       "VBox()"
      ]
     },
     "metadata": {},
     "output_type": "display_data"
    },
    {
     "data": {
      "application/vnd.jupyter.widget-view+json": {
       "model_id": "",
       "version_major": 2,
       "version_minor": 0
      },
      "text/plain": [
       "FloatProgress(value=0.0, bar_style='info', description='Progress:', layout=Layout(height='25px', width='50%'),…"
      ]
     },
     "metadata": {},
     "output_type": "display_data"
    }
   ],
   "source": [
    "import pandas as pd\n",
    "from pandas import DataFrame\n",
    "import numpy as np\n",
    "import matplotlib.pyplot as plt\n",
    "import matplotlib"
   ]
  },
  {
   "cell_type": "markdown",
   "metadata": {},
   "source": [
    "### Loadning Business Data"
   ]
  },
  {
   "cell_type": "code",
   "execution_count": 5,
   "metadata": {},
   "outputs": [
    {
     "data": {
      "application/vnd.jupyter.widget-view+json": {
       "model_id": "ce02fc9030c345b68c9cfda190b5be5a",
       "version_major": 2,
       "version_minor": 0
      },
      "text/plain": [
       "VBox()"
      ]
     },
     "metadata": {},
     "output_type": "display_data"
    },
    {
     "data": {
      "application/vnd.jupyter.widget-view+json": {
       "model_id": "",
       "version_major": 2,
       "version_minor": 0
      },
      "text/plain": [
       "FloatProgress(value=0.0, bar_style='info', description='Progress:', layout=Layout(height='25px', width='50%'),…"
      ]
     },
     "metadata": {},
     "output_type": "display_data"
    }
   ],
   "source": [
    "business = spark.read.json('s3://sta9760f2020spark-taejun/yelp_academic_dataset_business.json')"
   ]
  },
  {
   "cell_type": "code",
   "execution_count": 6,
   "metadata": {},
   "outputs": [
    {
     "data": {
      "application/vnd.jupyter.widget-view+json": {
       "model_id": "ee7cc12616854a69b429d182f1262fc9",
       "version_major": 2,
       "version_minor": 0
      },
      "text/plain": [
       "VBox()"
      ]
     },
     "metadata": {},
     "output_type": "display_data"
    },
    {
     "data": {
      "application/vnd.jupyter.widget-view+json": {
       "model_id": "",
       "version_major": 2,
       "version_minor": 0
      },
      "text/plain": [
       "FloatProgress(value=0.0, bar_style='info', description='Progress:', layout=Layout(height='25px', width='50%'),…"
      ]
     },
     "metadata": {},
     "output_type": "display_data"
    },
    {
     "name": "stdout",
     "output_type": "stream",
     "text": [
      "Data frame type: <class 'pyspark.sql.dataframe.DataFrame'>"
     ]
    }
   ],
   "source": [
    "print('Data frame type: ' + str(type(business)))"
   ]
  },
  {
   "cell_type": "markdown",
   "metadata": {},
   "source": [
    "### Overview of Data"
   ]
  },
  {
   "cell_type": "code",
   "execution_count": 7,
   "metadata": {},
   "outputs": [
    {
     "data": {
      "application/vnd.jupyter.widget-view+json": {
       "model_id": "5de4809338564f1eb2bd32836b34e417",
       "version_major": 2,
       "version_minor": 0
      },
      "text/plain": [
       "VBox()"
      ]
     },
     "metadata": {},
     "output_type": "display_data"
    },
    {
     "data": {
      "application/vnd.jupyter.widget-view+json": {
       "model_id": "",
       "version_major": 2,
       "version_minor": 0
      },
      "text/plain": [
       "FloatProgress(value=0.0, bar_style='info', description='Progress:', layout=Layout(height='25px', width='50%'),…"
      ]
     },
     "metadata": {},
     "output_type": "display_data"
    },
    {
     "name": "stdout",
     "output_type": "stream",
     "text": [
      "Total Columns: 14\n",
      "Total Rows: 209,393"
     ]
    }
   ],
   "source": [
    "print(f'Total Columns: {len(business.dtypes)}')\n",
    "print(f'Total Rows: {business.count():,}')"
   ]
  },
  {
   "cell_type": "code",
   "execution_count": 8,
   "metadata": {},
   "outputs": [
    {
     "data": {
      "application/vnd.jupyter.widget-view+json": {
       "model_id": "16227be6e71d4c109bc2e3f26d0036a6",
       "version_major": 2,
       "version_minor": 0
      },
      "text/plain": [
       "VBox()"
      ]
     },
     "metadata": {},
     "output_type": "display_data"
    },
    {
     "data": {
      "application/vnd.jupyter.widget-view+json": {
       "model_id": "",
       "version_major": 2,
       "version_minor": 0
      },
      "text/plain": [
       "FloatProgress(value=0.0, bar_style='info', description='Progress:', layout=Layout(height='25px', width='50%'),…"
      ]
     },
     "metadata": {},
     "output_type": "display_data"
    },
    {
     "name": "stdout",
     "output_type": "stream",
     "text": [
      "root\n",
      " |-- address: string (nullable = true)\n",
      " |-- attributes: struct (nullable = true)\n",
      " |    |-- AcceptsInsurance: string (nullable = true)\n",
      " |    |-- AgesAllowed: string (nullable = true)\n",
      " |    |-- Alcohol: string (nullable = true)\n",
      " |    |-- Ambience: string (nullable = true)\n",
      " |    |-- BYOB: string (nullable = true)\n",
      " |    |-- BYOBCorkage: string (nullable = true)\n",
      " |    |-- BestNights: string (nullable = true)\n",
      " |    |-- BikeParking: string (nullable = true)\n",
      " |    |-- BusinessAcceptsBitcoin: string (nullable = true)\n",
      " |    |-- BusinessAcceptsCreditCards: string (nullable = true)\n",
      " |    |-- BusinessParking: string (nullable = true)\n",
      " |    |-- ByAppointmentOnly: string (nullable = true)\n",
      " |    |-- Caters: string (nullable = true)\n",
      " |    |-- CoatCheck: string (nullable = true)\n",
      " |    |-- Corkage: string (nullable = true)\n",
      " |    |-- DietaryRestrictions: string (nullable = true)\n",
      " |    |-- DogsAllowed: string (nullable = true)\n",
      " |    |-- DriveThru: string (nullable = true)\n",
      " |    |-- GoodForDancing: string (nullable = true)\n",
      " |    |-- GoodForKids: string (nullable = true)\n",
      " |    |-- GoodForMeal: string (nullable = true)\n",
      " |    |-- HairSpecializesIn: string (nullable = true)\n",
      " |    |-- HappyHour: string (nullable = true)\n",
      " |    |-- HasTV: string (nullable = true)\n",
      " |    |-- Music: string (nullable = true)\n",
      " |    |-- NoiseLevel: string (nullable = true)\n",
      " |    |-- Open24Hours: string (nullable = true)\n",
      " |    |-- OutdoorSeating: string (nullable = true)\n",
      " |    |-- RestaurantsAttire: string (nullable = true)\n",
      " |    |-- RestaurantsCounterService: string (nullable = true)\n",
      " |    |-- RestaurantsDelivery: string (nullable = true)\n",
      " |    |-- RestaurantsGoodForGroups: string (nullable = true)\n",
      " |    |-- RestaurantsPriceRange2: string (nullable = true)\n",
      " |    |-- RestaurantsReservations: string (nullable = true)\n",
      " |    |-- RestaurantsTableService: string (nullable = true)\n",
      " |    |-- RestaurantsTakeOut: string (nullable = true)\n",
      " |    |-- Smoking: string (nullable = true)\n",
      " |    |-- WheelchairAccessible: string (nullable = true)\n",
      " |    |-- WiFi: string (nullable = true)\n",
      " |-- business_id: string (nullable = true)\n",
      " |-- categories: string (nullable = true)\n",
      " |-- city: string (nullable = true)\n",
      " |-- hours: struct (nullable = true)\n",
      " |    |-- Friday: string (nullable = true)\n",
      " |    |-- Monday: string (nullable = true)\n",
      " |    |-- Saturday: string (nullable = true)\n",
      " |    |-- Sunday: string (nullable = true)\n",
      " |    |-- Thursday: string (nullable = true)\n",
      " |    |-- Tuesday: string (nullable = true)\n",
      " |    |-- Wednesday: string (nullable = true)\n",
      " |-- is_open: long (nullable = true)\n",
      " |-- latitude: double (nullable = true)\n",
      " |-- longitude: double (nullable = true)\n",
      " |-- name: string (nullable = true)\n",
      " |-- postal_code: string (nullable = true)\n",
      " |-- review_count: long (nullable = true)\n",
      " |-- stars: double (nullable = true)\n",
      " |-- state: string (nullable = true)"
     ]
    }
   ],
   "source": [
    "business.printSchema()"
   ]
  },
  {
   "cell_type": "code",
   "execution_count": 9,
   "metadata": {},
   "outputs": [
    {
     "data": {
      "application/vnd.jupyter.widget-view+json": {
       "model_id": "344f897033fc401c8f23f7c037a65b06",
       "version_major": 2,
       "version_minor": 0
      },
      "text/plain": [
       "VBox()"
      ]
     },
     "metadata": {},
     "output_type": "display_data"
    },
    {
     "data": {
      "application/vnd.jupyter.widget-view+json": {
       "model_id": "",
       "version_major": 2,
       "version_minor": 0
      },
      "text/plain": [
       "FloatProgress(value=0.0, bar_style='info', description='Progress:', layout=Layout(height='25px', width='50%'),…"
      ]
     },
     "metadata": {},
     "output_type": "display_data"
    },
    {
     "name": "stdout",
     "output_type": "stream",
     "text": [
      "Columns overview\n",
      "     Column Name                                          Data type\n",
      "0        address                                             string\n",
      "1     attributes  struct<AcceptsInsurance:string,AgesAllowed:str...\n",
      "2    business_id                                             string\n",
      "3     categories                                             string\n",
      "4           city                                             string\n",
      "5          hours  struct<Friday:string,Monday:string,Saturday:st...\n",
      "6        is_open                                             bigint\n",
      "7       latitude                                             double\n",
      "8      longitude                                             double\n",
      "9           name                                             string\n",
      "10   postal_code                                             string\n",
      "11  review_count                                             bigint\n",
      "12         stars                                             double\n",
      "13         state                                             string"
     ]
    }
   ],
   "source": [
    "print('Columns overview')\n",
    "pd.DataFrame(business.dtypes, columns = ['Column Name','Data type'])"
   ]
  },
  {
   "cell_type": "code",
   "execution_count": 10,
   "metadata": {},
   "outputs": [
    {
     "data": {
      "application/vnd.jupyter.widget-view+json": {
       "model_id": "8773362c16984318aaddfc35abcd8680",
       "version_major": 2,
       "version_minor": 0
      },
      "text/plain": [
       "VBox()"
      ]
     },
     "metadata": {},
     "output_type": "display_data"
    },
    {
     "data": {
      "application/vnd.jupyter.widget-view+json": {
       "model_id": "",
       "version_major": 2,
       "version_minor": 0
      },
      "text/plain": [
       "FloatProgress(value=0.0, bar_style='info', description='Progress:', layout=Layout(height='25px', width='50%'),…"
      ]
     },
     "metadata": {},
     "output_type": "display_data"
    },
    {
     "name": "stdout",
     "output_type": "stream",
     "text": [
      "+--------------------+--------------------+---------------+-----+--------------------+\n",
      "|         business_id|                name|           city|state|          categories|\n",
      "+--------------------+--------------------+---------------+-----+--------------------+\n",
      "|f9NumwFMBDn751xgF...|The Range At Lake...|      Cornelius|   NC|Active Life, Gun/...|\n",
      "|Yzvjg0SayhoZgCljU...|   Carlos Santo, NMD|     Scottsdale|   AZ|Health & Medical,...|\n",
      "|XNoUzKckATkOD1hP6...|             Felinus|       Montreal|   QC|Pets, Pet Service...|\n",
      "|6OAZjbxqM5ol29BuH...|Nevada House of Hose|North Las Vegas|   NV|Hardware Stores, ...|\n",
      "|51M2Kk903DFYI6gnB...|USE MY GUY SERVIC...|           Mesa|   AZ|Home Services, Pl...|\n",
      "+--------------------+--------------------+---------------+-----+--------------------+\n",
      "only showing top 5 rows"
     ]
    }
   ],
   "source": [
    "#Display the first 5 rows with the following columns: business_id, name, city, state, categories\n",
    "business.select('business_id','name','city','state','categories').show(5)"
   ]
  },
  {
   "cell_type": "markdown",
   "metadata": {},
   "source": [
    "## Part II: Analyzing Categories"
   ]
  },
  {
   "cell_type": "code",
   "execution_count": 11,
   "metadata": {},
   "outputs": [
    {
     "data": {
      "application/vnd.jupyter.widget-view+json": {
       "model_id": "1550911fe6ce4dbda289014fc8103aed",
       "version_major": 2,
       "version_minor": 0
      },
      "text/plain": [
       "VBox()"
      ]
     },
     "metadata": {},
     "output_type": "display_data"
    },
    {
     "data": {
      "application/vnd.jupyter.widget-view+json": {
       "model_id": "",
       "version_major": 2,
       "version_minor": 0
      },
      "text/plain": [
       "FloatProgress(value=0.0, bar_style='info', description='Progress:', layout=Layout(height='25px', width='50%'),…"
      ]
     },
     "metadata": {},
     "output_type": "display_data"
    },
    {
     "name": "stdout",
     "output_type": "stream",
     "text": [
      "+--------------------+--------------------+\n",
      "|         business_id|          categories|\n",
      "+--------------------+--------------------+\n",
      "|f9NumwFMBDn751xgF...|Active Life, Gun/...|\n",
      "|Yzvjg0SayhoZgCljU...|Health & Medical,...|\n",
      "|XNoUzKckATkOD1hP6...|Pets, Pet Service...|\n",
      "|6OAZjbxqM5ol29BuH...|Hardware Stores, ...|\n",
      "|51M2Kk903DFYI6gnB...|Home Services, Pl...|\n",
      "+--------------------+--------------------+\n",
      "only showing top 5 rows"
     ]
    }
   ],
   "source": [
    "# The table described from my original yelp dataframe\n",
    "business.select('business_id','categories').show(5)"
   ]
  },
  {
   "cell_type": "code",
   "execution_count": 12,
   "metadata": {},
   "outputs": [
    {
     "data": {
      "application/vnd.jupyter.widget-view+json": {
       "model_id": "22545297f0cd4ae591c6dfec207b91e0",
       "version_major": 2,
       "version_minor": 0
      },
      "text/plain": [
       "VBox()"
      ]
     },
     "metadata": {},
     "output_type": "display_data"
    },
    {
     "data": {
      "application/vnd.jupyter.widget-view+json": {
       "model_id": "",
       "version_major": 2,
       "version_minor": 0
      },
      "text/plain": [
       "FloatProgress(value=0.0, bar_style='info', description='Progress:', layout=Layout(height='25px', width='50%'),…"
      ]
     },
     "metadata": {},
     "output_type": "display_data"
    }
   ],
   "source": [
    "# Split categories to each distinct category\n",
    "from pyspark.sql.functions import explode, split\n",
    "\n",
    "business_id_categories = business.withColumn(\"categories\", explode(split('categories', \", \")))"
   ]
  },
  {
   "cell_type": "code",
   "execution_count": 13,
   "metadata": {},
   "outputs": [
    {
     "data": {
      "application/vnd.jupyter.widget-view+json": {
       "model_id": "18fda3cd8eef4ec3acf51655ed85ae4d",
       "version_major": 2,
       "version_minor": 0
      },
      "text/plain": [
       "VBox()"
      ]
     },
     "metadata": {},
     "output_type": "display_data"
    },
    {
     "data": {
      "application/vnd.jupyter.widget-view+json": {
       "model_id": "",
       "version_major": 2,
       "version_minor": 0
      },
      "text/plain": [
       "FloatProgress(value=0.0, bar_style='info', description='Progress:', layout=Layout(height='25px', width='50%'),…"
      ]
     },
     "metadata": {},
     "output_type": "display_data"
    },
    {
     "name": "stdout",
     "output_type": "stream",
     "text": [
      "+--------------------+----------------+\n",
      "|         business_id|      categories|\n",
      "+--------------------+----------------+\n",
      "|f9NumwFMBDn751xgF...|     Active Life|\n",
      "|f9NumwFMBDn751xgF...|Gun/Rifle Ranges|\n",
      "|f9NumwFMBDn751xgF...|     Guns & Ammo|\n",
      "|f9NumwFMBDn751xgF...|        Shopping|\n",
      "|Yzvjg0SayhoZgCljU...|Health & Medical|\n",
      "+--------------------+----------------+\n",
      "only showing top 5 rows"
     ]
    }
   ],
   "source": [
    "# Display the first 5 rows of the association table\n",
    "business_id_categories.select('business_id', \"categories\").show(5)"
   ]
  },
  {
   "cell_type": "markdown",
   "metadata": {},
   "source": [
    "### Total Unique Categories"
   ]
  },
  {
   "cell_type": "code",
   "execution_count": 14,
   "metadata": {},
   "outputs": [
    {
     "data": {
      "application/vnd.jupyter.widget-view+json": {
       "model_id": "a018d66e476e46d1a0cbdfced863f23d",
       "version_major": 2,
       "version_minor": 0
      },
      "text/plain": [
       "VBox()"
      ]
     },
     "metadata": {},
     "output_type": "display_data"
    },
    {
     "data": {
      "application/vnd.jupyter.widget-view+json": {
       "model_id": "",
       "version_major": 2,
       "version_minor": 0
      },
      "text/plain": [
       "FloatProgress(value=0.0, bar_style='info', description='Progress:', layout=Layout(height='25px', width='50%'),…"
      ]
     },
     "metadata": {},
     "output_type": "display_data"
    },
    {
     "name": "stdout",
     "output_type": "stream",
     "text": [
      "1336"
     ]
    }
   ],
   "source": [
    "unique_categories = business_id_categories.select('business_id', \"categories\")\n",
    "unique_categories.select(\"categories\").distinct().count()"
   ]
  },
  {
   "cell_type": "markdown",
   "metadata": {},
   "source": [
    "### Top Categories by Business"
   ]
  },
  {
   "cell_type": "code",
   "execution_count": 15,
   "metadata": {},
   "outputs": [
    {
     "data": {
      "application/vnd.jupyter.widget-view+json": {
       "model_id": "c76fe10eddda4eee8490fb763c7464e9",
       "version_major": 2,
       "version_minor": 0
      },
      "text/plain": [
       "VBox()"
      ]
     },
     "metadata": {},
     "output_type": "display_data"
    },
    {
     "data": {
      "application/vnd.jupyter.widget-view+json": {
       "model_id": "",
       "version_major": 2,
       "version_minor": 0
      },
      "text/plain": [
       "FloatProgress(value=0.0, bar_style='info', description='Progress:', layout=Layout(height='25px', width='50%'),…"
      ]
     },
     "metadata": {},
     "output_type": "display_data"
    },
    {
     "name": "stdout",
     "output_type": "stream",
     "text": [
      "+--------------------+-----+\n",
      "|          categories|count|\n",
      "+--------------------+-----+\n",
      "|      Dermatologists|  341|\n",
      "|      Paddleboarding|   36|\n",
      "|        Aerial Tours|   28|\n",
      "|         Hobby Shops|  828|\n",
      "|          Bubble Tea|  720|\n",
      "|             Embassy|   13|\n",
      "|            Handyman|  682|\n",
      "|             Tanning|  938|\n",
      "|      Aerial Fitness|   29|\n",
      "|             Tempura|    1|\n",
      "|             Falafel|  159|\n",
      "|       Outlet Stores|  399|\n",
      "|        Summer Camps|  318|\n",
      "|     Clothing Rental|   55|\n",
      "|      Sporting Goods| 2311|\n",
      "|     Cooking Schools|  118|\n",
      "|  College Counseling|   15|\n",
      "|  Lactation Services|   50|\n",
      "|Ski & Snowboard S...|   50|\n",
      "|             Museums|  359|\n",
      "+--------------------+-----+\n",
      "only showing top 20 rows"
     ]
    }
   ],
   "source": [
    "business_id_categories.groupby(\"categories\").count().show(20)"
   ]
  },
  {
   "cell_type": "markdown",
   "metadata": {},
   "source": [
    "### Bar Chart of Top Categories"
   ]
  },
  {
   "cell_type": "code",
   "execution_count": 16,
   "metadata": {},
   "outputs": [
    {
     "data": {
      "application/vnd.jupyter.widget-view+json": {
       "model_id": "a20d4c557cf645beb0ef2f7356604689",
       "version_major": 2,
       "version_minor": 0
      },
      "text/plain": [
       "VBox()"
      ]
     },
     "metadata": {},
     "output_type": "display_data"
    },
    {
     "data": {
      "application/vnd.jupyter.widget-view+json": {
       "model_id": "",
       "version_major": 2,
       "version_minor": 0
      },
      "text/plain": [
       "FloatProgress(value=0.0, bar_style='info', description='Progress:', layout=Layout(height='25px', width='50%'),…"
      ]
     },
     "metadata": {},
     "output_type": "display_data"
    }
   ],
   "source": [
    "top_categories = business_id_categories.groupby(\"categories\").count().orderBy('count', ascending=False).limit(20).toPandas()\n",
    "top_categories = top_categories.set_index('categories','count')\n",
    "top_categories = top_categories.sort_values(by='count', ascending=True)"
   ]
  },
  {
   "cell_type": "code",
   "execution_count": 17,
   "metadata": {},
   "outputs": [
    {
     "data": {
      "application/vnd.jupyter.widget-view+json": {
       "model_id": "1b11ed7642f84056847d9ca64773d2a8",
       "version_major": 2,
       "version_minor": 0
      },
      "text/plain": [
       "VBox()"
      ]
     },
     "metadata": {},
     "output_type": "display_data"
    },
    {
     "data": {
      "application/vnd.jupyter.widget-view+json": {
       "model_id": "",
       "version_major": 2,
       "version_minor": 0
      },
      "text/plain": [
       "FloatProgress(value=0.0, bar_style='info', description='Progress:', layout=Layout(height='25px', width='50%'),…"
      ]
     },
     "metadata": {},
     "output_type": "display_data"
    },
    {
     "name": "stdout",
     "output_type": "stream",
     "text": [
      "Text(0.5, 1.0, 'Top Categories by Business')"
     ]
    }
   ],
   "source": [
    "top_categories.plot.barh(figsize=(15,10), rot=45)\n",
    "plt.xlabel('Count')\n",
    "plt.ylabel('Categories')\n",
    "plt.title('Top Categories by Business', fontsize=30, fontweight='bold')"
   ]
  },
  {
   "cell_type": "code",
   "execution_count": 18,
   "metadata": {},
   "outputs": [
    {
     "data": {
      "application/vnd.jupyter.widget-view+json": {
       "model_id": "",
       "version_major": 2,
       "version_minor": 0
      },
      "text/plain": [
       "FloatProgress(value=0.0, bar_style='info', description='Progress:', layout=Layout(height='25px', width='50%'),…"
      ]
     },
     "metadata": {},
     "output_type": "display_data"
    },
    {
     "data": {
      "image/png": "[encoded data removed]",
      "text/plain": [
       "<IPython.core.display.Image object>"
      ]
     },
     "metadata": {},
     "output_type": "display_data"
    }
   ],
   "source": [
    "%matplot plt"
   ]
  },
  {
   "cell_type": "markdown",
   "metadata": {},
   "source": [
    "## Part III: Do Yelp Reviews Skew Negative?"
   ]
  },
  {
   "cell_type": "markdown",
   "metadata": {},
   "source": [
    "### Loading Review Data"
   ]
  },
  {
   "cell_type": "code",
   "execution_count": 19,
   "metadata": {},
   "outputs": [
    {
     "data": {
      "application/vnd.jupyter.widget-view+json": {
       "model_id": "6ccd1cd7bcfe434d918fdb08969b7d65",
       "version_major": 2,
       "version_minor": 0
      },
      "text/plain": [
       "VBox()"
      ]
     },
     "metadata": {},
     "output_type": "display_data"
    },
    {
     "data": {
      "application/vnd.jupyter.widget-view+json": {
       "model_id": "",
       "version_major": 2,
       "version_minor": 0
      },
      "text/plain": [
       "FloatProgress(value=0.0, bar_style='info', description='Progress:', layout=Layout(height='25px', width='50%'),…"
      ]
     },
     "metadata": {},
     "output_type": "display_data"
    }
   ],
   "source": [
    "review= spark.read.json('s3://sta9760f2020spark-taejun/yelp_academic_dataset_review.json')"
   ]
  },
  {
   "cell_type": "code",
   "execution_count": 20,
   "metadata": {},
   "outputs": [
    {
     "data": {
      "application/vnd.jupyter.widget-view+json": {
       "model_id": "69ea0f44ab874dbc9fb9a3c0067230a1",
       "version_major": 2,
       "version_minor": 0
      },
      "text/plain": [
       "VBox()"
      ]
     },
     "metadata": {},
     "output_type": "display_data"
    },
    {
     "data": {
      "application/vnd.jupyter.widget-view+json": {
       "model_id": "",
       "version_major": 2,
       "version_minor": 0
      },
      "text/plain": [
       "FloatProgress(value=0.0, bar_style='info', description='Progress:', layout=Layout(height='25px', width='50%'),…"
      ]
     },
     "metadata": {},
     "output_type": "display_data"
    },
    {
     "name": "stdout",
     "output_type": "stream",
     "text": [
      "Data frame type: <class 'pyspark.sql.dataframe.DataFrame'>"
     ]
    }
   ],
   "source": [
    "print('Data frame type: ' + str(type(review)))"
   ]
  },
  {
   "cell_type": "code",
   "execution_count": 21,
   "metadata": {},
   "outputs": [
    {
     "data": {
      "application/vnd.jupyter.widget-view+json": {
       "model_id": "f729649e48824a2095648636e185b6ec",
       "version_major": 2,
       "version_minor": 0
      },
      "text/plain": [
       "VBox()"
      ]
     },
     "metadata": {},
     "output_type": "display_data"
    },
    {
     "data": {
      "application/vnd.jupyter.widget-view+json": {
       "model_id": "",
       "version_major": 2,
       "version_minor": 0
      },
      "text/plain": [
       "FloatProgress(value=0.0, bar_style='info', description='Progress:', layout=Layout(height='25px', width='50%'),…"
      ]
     },
     "metadata": {},
     "output_type": "display_data"
    },
    {
     "name": "stdout",
     "output_type": "stream",
     "text": [
      "Total Columns: 9\n",
      "Total Rows: 8,021,122"
     ]
    }
   ],
   "source": [
    "print(f'Total Columns: {len(review.dtypes)}')\n",
    "print(f'Total Rows: {review.count():,}')"
   ]
  },
  {
   "cell_type": "code",
   "execution_count": 22,
   "metadata": {},
   "outputs": [
    {
     "data": {
      "application/vnd.jupyter.widget-view+json": {
       "model_id": "dee048065e1d4cedbba3493bb388c686",
       "version_major": 2,
       "version_minor": 0
      },
      "text/plain": [
       "VBox()"
      ]
     },
     "metadata": {},
     "output_type": "display_data"
    },
    {
     "data": {
      "application/vnd.jupyter.widget-view+json": {
       "model_id": "",
       "version_major": 2,
       "version_minor": 0
      },
      "text/plain": [
       "FloatProgress(value=0.0, bar_style='info', description='Progress:', layout=Layout(height='25px', width='50%'),…"
      ]
     },
     "metadata": {},
     "output_type": "display_data"
    },
    {
     "name": "stdout",
     "output_type": "stream",
     "text": [
      "root\n",
      " |-- business_id: string (nullable = true)\n",
      " |-- cool: long (nullable = true)\n",
      " |-- date: string (nullable = true)\n",
      " |-- funny: long (nullable = true)\n",
      " |-- review_id: string (nullable = true)\n",
      " |-- stars: double (nullable = true)\n",
      " |-- text: string (nullable = true)\n",
      " |-- useful: long (nullable = true)\n",
      " |-- user_id: string (nullable = true)"
     ]
    }
   ],
   "source": [
    "review.printSchema()"
   ]
  },
  {
   "cell_type": "code",
   "execution_count": 23,
   "metadata": {},
   "outputs": [
    {
     "data": {
      "application/vnd.jupyter.widget-view+json": {
       "model_id": "3911cb7721a04b09995c70bfa8dc764a",
       "version_major": 2,
       "version_minor": 0
      },
      "text/plain": [
       "VBox()"
      ]
     },
     "metadata": {},
     "output_type": "display_data"
    },
    {
     "data": {
      "application/vnd.jupyter.widget-view+json": {
       "model_id": "",
       "version_major": 2,
       "version_minor": 0
      },
      "text/plain": [
       "FloatProgress(value=0.0, bar_style='info', description='Progress:', layout=Layout(height='25px', width='50%'),…"
      ]
     },
     "metadata": {},
     "output_type": "display_data"
    },
    {
     "name": "stdout",
     "output_type": "stream",
     "text": [
      "+--------------------+-----+\n",
      "|         business_id|stars|\n",
      "+--------------------+-----+\n",
      "|-MhfebM0QIsKt87iD...|  2.0|\n",
      "|lbrU8StCq3yDfr-QM...|  1.0|\n",
      "|HQl28KMwrEKHqhFrr...|  5.0|\n",
      "|5JxlZaqCnk1MnbgRi...|  1.0|\n",
      "|IS4cv902ykd8wj1TR...|  4.0|\n",
      "+--------------------+-----+\n",
      "only showing top 5 rows"
     ]
    }
   ],
   "source": [
    "# business and stars data\n",
    "business_id_stars = review.select('business_id', \"stars\")\n",
    "business_id_stars.show(5)"
   ]
  },
  {
   "cell_type": "code",
   "execution_count": 24,
   "metadata": {},
   "outputs": [
    {
     "data": {
      "application/vnd.jupyter.widget-view+json": {
       "model_id": "1170c593f1d149edaa1430e4ee67b7ec",
       "version_major": 2,
       "version_minor": 0
      },
      "text/plain": [
       "VBox()"
      ]
     },
     "metadata": {},
     "output_type": "display_data"
    },
    {
     "data": {
      "application/vnd.jupyter.widget-view+json": {
       "model_id": "",
       "version_major": 2,
       "version_minor": 0
      },
      "text/plain": [
       "FloatProgress(value=0.0, bar_style='info', description='Progress:', layout=Layout(height='25px', width='50%'),…"
      ]
     },
     "metadata": {},
     "output_type": "display_data"
    }
   ],
   "source": [
    "from pyspark.sql.functions import avg\n",
    "business_id_avg_stars = review.groupby(\"business_id\").avg(\"stars\")"
   ]
  },
  {
   "cell_type": "code",
   "execution_count": 25,
   "metadata": {},
   "outputs": [
    {
     "data": {
      "application/vnd.jupyter.widget-view+json": {
       "model_id": "f6a2e013471b4da3827e90c5d0af6d57",
       "version_major": 2,
       "version_minor": 0
      },
      "text/plain": [
       "VBox()"
      ]
     },
     "metadata": {},
     "output_type": "display_data"
    },
    {
     "data": {
      "application/vnd.jupyter.widget-view+json": {
       "model_id": "",
       "version_major": 2,
       "version_minor": 0
      },
      "text/plain": [
       "FloatProgress(value=0.0, bar_style='info', description='Progress:', layout=Layout(height='25px', width='50%'),…"
      ]
     },
     "metadata": {},
     "output_type": "display_data"
    },
    {
     "name": "stdout",
     "output_type": "stream",
     "text": [
      "+--------------------+------------------+\n",
      "|         business_id|        avg(stars)|\n",
      "+--------------------+------------------+\n",
      "|VHsNB3pdGVcRgs6C3...| 3.411764705882353|\n",
      "|RMjCnixEY5i12Ciqn...|3.5316455696202533|\n",
      "|ipFreSFhjClfNETuM...|               2.6|\n",
      "|dLDMU8bOLnkDTmPUr...| 4.942857142857143|\n",
      "|Qm2datcYBPXrPATVG...| 4.352941176470588|\n",
      "+--------------------+------------------+\n",
      "only showing top 5 rows"
     ]
    }
   ],
   "source": [
    "business_id_avg_stars.show(5)"
   ]
  },
  {
   "cell_type": "code",
   "execution_count": 26,
   "metadata": {},
   "outputs": [
    {
     "data": {
      "application/vnd.jupyter.widget-view+json": {
       "model_id": "eadf68265bac4b0a8aa1cbaeabc8b12b",
       "version_major": 2,
       "version_minor": 0
      },
      "text/plain": [
       "VBox()"
      ]
     },
     "metadata": {},
     "output_type": "display_data"
    },
    {
     "data": {
      "application/vnd.jupyter.widget-view+json": {
       "model_id": "",
       "version_major": 2,
       "version_minor": 0
      },
      "text/plain": [
       "FloatProgress(value=0.0, bar_style='info', description='Progress:', layout=Layout(height='25px', width='50%'),…"
      ]
     },
     "metadata": {},
     "output_type": "display_data"
    }
   ],
   "source": [
    "# Join two dataframes by busienss_id\n",
    "df1 = business_id_avg_stars.select('business_id','avg(stars)')\n",
    "df2 = business.select('business_id','stars','name','city','state')\n",
    "joined_df = df1.join(df2, df1.business_id == df2.business_id)"
   ]
  },
  {
   "cell_type": "code",
   "execution_count": 27,
   "metadata": {},
   "outputs": [
    {
     "data": {
      "application/vnd.jupyter.widget-view+json": {
       "model_id": "2e2abfd2ede24abebbe96c55dcf2fe32",
       "version_major": 2,
       "version_minor": 0
      },
      "text/plain": [
       "VBox()"
      ]
     },
     "metadata": {},
     "output_type": "display_data"
    },
    {
     "data": {
      "application/vnd.jupyter.widget-view+json": {
       "model_id": "",
       "version_major": 2,
       "version_minor": 0
      },
      "text/plain": [
       "FloatProgress(value=0.0, bar_style='info', description='Progress:', layout=Layout(height='25px', width='50%'),…"
      ]
     },
     "metadata": {},
     "output_type": "display_data"
    },
    {
     "name": "stdout",
     "output_type": "stream",
     "text": [
      "+----------------+-----+--------------------+---------+-----+\n",
      "|      avg(stars)|stars|                name|     city|state|\n",
      "+----------------+-----+--------------------+---------+-----+\n",
      "|4.11784140969163|  4.0|Delmonico Steakhouse|Las Vegas|   NV|\n",
      "|             4.5|  4.5|Mr. Pancho Mexica...|     Mesa|   AZ|\n",
      "|            3.75|  4.0|Maricopa County D...|  Phoenix|   AZ|\n",
      "|             4.0|  4.0|Double Play Sport...|Las Vegas|   NV|\n",
      "|          2.6875|  2.5|  Impressions Dental| Chandler|   AZ|\n",
      "+----------------+-----+--------------------+---------+-----+\n",
      "only showing top 5 rows"
     ]
    }
   ],
   "source": [
    "# Display 5 first rows\n",
    "joined_df = joined_df.select('avg(stars)','stars','name','city','state')\n",
    "joined_df.show(5)"
   ]
  },
  {
   "cell_type": "code",
   "execution_count": 28,
   "metadata": {},
   "outputs": [
    {
     "data": {
      "application/vnd.jupyter.widget-view+json": {
       "model_id": "e96a58a0b5b145ba9f4ee75bb91a231e",
       "version_major": 2,
       "version_minor": 0
      },
      "text/plain": [
       "VBox()"
      ]
     },
     "metadata": {},
     "output_type": "display_data"
    },
    {
     "data": {
      "application/vnd.jupyter.widget-view+json": {
       "model_id": "",
       "version_major": 2,
       "version_minor": 0
      },
      "text/plain": [
       "FloatProgress(value=0.0, bar_style='info', description='Progress:', layout=Layout(height='25px', width='50%'),…"
      ]
     },
     "metadata": {},
     "output_type": "display_data"
    }
   ],
   "source": [
    "# Dataframe to Pandas dataframe\n",
    "skew_df = joined_df.select('avg(stars)','stars').toPandas()"
   ]
  },
  {
   "cell_type": "code",
   "execution_count": 29,
   "metadata": {},
   "outputs": [
    {
     "data": {
      "application/vnd.jupyter.widget-view+json": {
       "model_id": "08c413eb383b4bdd8fcad1235676bf37",
       "version_major": 2,
       "version_minor": 0
      },
      "text/plain": [
       "VBox()"
      ]
     },
     "metadata": {},
     "output_type": "display_data"
    },
    {
     "data": {
      "application/vnd.jupyter.widget-view+json": {
       "model_id": "",
       "version_major": 2,
       "version_minor": 0
      },
      "text/plain": [
       "FloatProgress(value=0.0, bar_style='info', description='Progress:', layout=Layout(height='25px', width='50%'),…"
      ]
     },
     "metadata": {},
     "output_type": "display_data"
    },
    {
     "name": "stdout",
     "output_type": "stream",
     "text": [
      "        avg(stars)  stars      skew\n",
      "0         3.411765    3.5 -0.025210\n",
      "1         3.531646    3.5  0.009042\n",
      "2         2.600000    2.5  0.040000\n",
      "3         4.942857    5.0 -0.011429\n",
      "4         4.352941    4.5 -0.032680\n",
      "...            ...    ...       ...\n",
      "209388    4.000000    4.0  0.000000\n",
      "209389    3.000000    3.0  0.000000\n",
      "209390    5.000000    5.0  0.000000\n",
      "209391    1.666667    1.5  0.111111\n",
      "209392    3.250000    3.0  0.083333\n",
      "\n",
      "[209393 rows x 3 columns]"
     ]
    }
   ],
   "source": [
    "skew_df[\"skew\"] = (skew_df['avg(stars)'] - skew_df['stars']) / skew_df['stars']\n",
    "skew_df"
   ]
  },
  {
   "cell_type": "markdown",
   "metadata": {},
   "source": [
    "### Skewed Distribution of Reviews"
   ]
  },
  {
   "cell_type": "code",
   "execution_count": 30,
   "metadata": {
    "scrolled": true
   },
   "outputs": [
    {
     "data": {
      "application/vnd.jupyter.widget-view+json": {
       "model_id": "d6df5b9dfc804dce9b8f916bb491b0a3",
       "version_major": 2,
       "version_minor": 0
      },
      "text/plain": [
       "VBox()"
      ]
     },
     "metadata": {},
     "output_type": "display_data"
    },
    {
     "data": {
      "application/vnd.jupyter.widget-view+json": {
       "model_id": "",
       "version_major": 2,
       "version_minor": 0
      },
      "text/plain": [
       "FloatProgress(value=0.0, bar_style='info', description='Progress:', layout=Layout(height='25px', width='50%'),…"
      ]
     },
     "metadata": {},
     "output_type": "display_data"
    },
    {
     "data": {
      "image/png": "[encoded data removed]",
      "text/plain": [
       "<IPython.core.display.Image object>"
      ]
     },
     "metadata": {},
     "output_type": "display_data"
    }
   ],
   "source": [
    "import seaborn as sns\n",
    "\n",
    "plt.figure(figsize=(10,5))\n",
    "sns.distplot(skew_df[\"skew\"], kde=True)\n",
    "plt.title('Skewness of Reviews', size = 15)\n",
    "plt.axis((-0.6, 1.30, 0, 11))\n",
    "\n",
    "%matplot plt"
   ]
  },
  {
   "cell_type": "markdown",
   "metadata": {},
   "source": [
    "###  Calculating Skewness "
   ]
  },
  {
   "cell_type": "code",
   "execution_count": 31,
   "metadata": {},
   "outputs": [
    {
     "data": {
      "application/vnd.jupyter.widget-view+json": {
       "model_id": "618b93c52d0642ed8b605243d05d6cd5",
       "version_major": 2,
       "version_minor": 0
      },
      "text/plain": [
       "VBox()"
      ]
     },
     "metadata": {},
     "output_type": "display_data"
    },
    {
     "data": {
      "application/vnd.jupyter.widget-view+json": {
       "model_id": "",
       "version_major": 2,
       "version_minor": 0
      },
      "text/plain": [
       "FloatProgress(value=0.0, bar_style='info', description='Progress:', layout=Layout(height='25px', width='50%'),…"
      ]
     },
     "metadata": {},
     "output_type": "display_data"
    },
    {
     "name": "stdout",
     "output_type": "stream",
     "text": [
      "Mean:  0.00124\n",
      "Median:  0.0\n",
      "Standard Deviation:  0.05524\n",
      "Skewness:  0.06734"
     ]
    }
   ],
   "source": [
    "# Calcuate Pearson's coefficient of skewness with mean, median, and standard deviation\n",
    "# round up values to calaute values easily\n",
    "\n",
    "mean = skew_df['skew'].mean().round(5)\n",
    "median = skew_df['skew'].median().round(5)\n",
    "std_dev = skew_df['skew'].std().round(5)\n",
    "skewness = (3 * (mean-median) / std_dev).round(5)\n",
    "\n",
    "print('Mean: ', mean)\n",
    "print('Median: ', median)\n",
    "print('Standard Deviation: ', std_dev)\n",
    "print('Skewness: ', skewness)"
   ]
  },
  {
   "cell_type": "markdown",
   "metadata": {},
   "source": [
    "### IMPLICATIONS\n",
    "Once I looked at the above graph, I could not decide whether skewness of Yelp reviews is positive or negative. So, I calculated Paerson's coefficient of skewness with mean, median, and standard deviation.\n",
    "\n",
    "- The formula to calculate skewness is 3 * (Mean - Median) / Standard Deviation\n",
    "- Mean is 0.00124\n",
    "- Median is 0.0\n",
    "- Standard Deviation is 0.05524\n",
    "\n",
    "By the formula and values, I could get skewness of 0.06734. It is greater than 0 so I can say skewness is positive. It shows that users who wrote reviews were more satisfied than normal. However, it has not a strong positive value and is close to 0, so I would like to say that it is slightly more satisfied than normal."
   ]
  },
  {
   "cell_type": "markdown",
   "metadata": {},
   "source": [
    "## Part IV: Should the Elite be Trusted?"
   ]
  },
  {
   "cell_type": "markdown",
   "metadata": {},
   "source": [
    "### Loading user data"
   ]
  },
  {
   "cell_type": "code",
   "execution_count": 32,
   "metadata": {},
   "outputs": [
    {
     "data": {
      "application/vnd.jupyter.widget-view+json": {
       "model_id": "223413da733540a98ba5ed7473b52658",
       "version_major": 2,
       "version_minor": 0
      },
      "text/plain": [
       "VBox()"
      ]
     },
     "metadata": {},
     "output_type": "display_data"
    },
    {
     "data": {
      "application/vnd.jupyter.widget-view+json": {
       "model_id": "",
       "version_major": 2,
       "version_minor": 0
      },
      "text/plain": [
       "FloatProgress(value=0.0, bar_style='info', description='Progress:', layout=Layout(height='25px', width='50%'),…"
      ]
     },
     "metadata": {},
     "output_type": "display_data"
    }
   ],
   "source": [
    "user= spark.read.json('s3://sta9760f2020spark-taejun/yelp_academic_dataset_user.json')"
   ]
  },
  {
   "cell_type": "code",
   "execution_count": 33,
   "metadata": {},
   "outputs": [
    {
     "data": {
      "application/vnd.jupyter.widget-view+json": {
       "model_id": "e52ede22d01e4ed8b5ac037f87b71a57",
       "version_major": 2,
       "version_minor": 0
      },
      "text/plain": [
       "VBox()"
      ]
     },
     "metadata": {},
     "output_type": "display_data"
    },
    {
     "data": {
      "application/vnd.jupyter.widget-view+json": {
       "model_id": "",
       "version_major": 2,
       "version_minor": 0
      },
      "text/plain": [
       "FloatProgress(value=0.0, bar_style='info', description='Progress:', layout=Layout(height='25px', width='50%'),…"
      ]
     },
     "metadata": {},
     "output_type": "display_data"
    },
    {
     "name": "stdout",
     "output_type": "stream",
     "text": [
      "Data frame type: <class 'pyspark.sql.dataframe.DataFrame'>"
     ]
    }
   ],
   "source": [
    "print('Data frame type: ' + str(type(user)))"
   ]
  },
  {
   "cell_type": "code",
   "execution_count": 34,
   "metadata": {},
   "outputs": [
    {
     "data": {
      "application/vnd.jupyter.widget-view+json": {
       "model_id": "e89022b56e0c49ea81e3b4fec16e4fbe",
       "version_major": 2,
       "version_minor": 0
      },
      "text/plain": [
       "VBox()"
      ]
     },
     "metadata": {},
     "output_type": "display_data"
    },
    {
     "data": {
      "application/vnd.jupyter.widget-view+json": {
       "model_id": "",
       "version_major": 2,
       "version_minor": 0
      },
      "text/plain": [
       "FloatProgress(value=0.0, bar_style='info', description='Progress:', layout=Layout(height='25px', width='50%'),…"
      ]
     },
     "metadata": {},
     "output_type": "display_data"
    },
    {
     "name": "stdout",
     "output_type": "stream",
     "text": [
      "Total Columns: 22\n",
      "Total Rows: 1,968,703"
     ]
    }
   ],
   "source": [
    "print(f'Total Columns: {len(user.dtypes)}')\n",
    "print(f'Total Rows: {user.count():,}')"
   ]
  },
  {
   "cell_type": "code",
   "execution_count": 35,
   "metadata": {},
   "outputs": [
    {
     "data": {
      "application/vnd.jupyter.widget-view+json": {
       "model_id": "e668b4bc39114763a51571f49763c624",
       "version_major": 2,
       "version_minor": 0
      },
      "text/plain": [
       "VBox()"
      ]
     },
     "metadata": {},
     "output_type": "display_data"
    },
    {
     "data": {
      "application/vnd.jupyter.widget-view+json": {
       "model_id": "",
       "version_major": 2,
       "version_minor": 0
      },
      "text/plain": [
       "FloatProgress(value=0.0, bar_style='info', description='Progress:', layout=Layout(height='25px', width='50%'),…"
      ]
     },
     "metadata": {},
     "output_type": "display_data"
    },
    {
     "name": "stdout",
     "output_type": "stream",
     "text": [
      "root\n",
      " |-- average_stars: double (nullable = true)\n",
      " |-- compliment_cool: long (nullable = true)\n",
      " |-- compliment_cute: long (nullable = true)\n",
      " |-- compliment_funny: long (nullable = true)\n",
      " |-- compliment_hot: long (nullable = true)\n",
      " |-- compliment_list: long (nullable = true)\n",
      " |-- compliment_more: long (nullable = true)\n",
      " |-- compliment_note: long (nullable = true)\n",
      " |-- compliment_photos: long (nullable = true)\n",
      " |-- compliment_plain: long (nullable = true)\n",
      " |-- compliment_profile: long (nullable = true)\n",
      " |-- compliment_writer: long (nullable = true)\n",
      " |-- cool: long (nullable = true)\n",
      " |-- elite: string (nullable = true)\n",
      " |-- fans: long (nullable = true)\n",
      " |-- friends: string (nullable = true)\n",
      " |-- funny: long (nullable = true)\n",
      " |-- name: string (nullable = true)\n",
      " |-- review_count: long (nullable = true)\n",
      " |-- useful: long (nullable = true)\n",
      " |-- user_id: string (nullable = true)\n",
      " |-- yelping_since: string (nullable = true)"
     ]
    }
   ],
   "source": [
    "user.printSchema()"
   ]
  },
  {
   "cell_type": "code",
   "execution_count": 36,
   "metadata": {},
   "outputs": [
    {
     "data": {
      "application/vnd.jupyter.widget-view+json": {
       "model_id": "f3e10109b034419ca2915a2cf5b65411",
       "version_major": 2,
       "version_minor": 0
      },
      "text/plain": [
       "VBox()"
      ]
     },
     "metadata": {},
     "output_type": "display_data"
    },
    {
     "data": {
      "application/vnd.jupyter.widget-view+json": {
       "model_id": "",
       "version_major": 2,
       "version_minor": 0
      },
      "text/plain": [
       "FloatProgress(value=0.0, bar_style='info', description='Progress:', layout=Layout(height='25px', width='50%'),…"
      ]
     },
     "metadata": {},
     "output_type": "display_data"
    },
    {
     "name": "stdout",
     "output_type": "stream",
     "text": [
      "+--------------------+--------------------+-------------+\n",
      "|             user_id|               elite|average_stars|\n",
      "+--------------------+--------------------+-------------+\n",
      "|ntlvfPzc8eglqvk92...|                    |         3.57|\n",
      "|FOBRPlBHa3WPHFB5q...|2008,2009,2010,20...|         3.84|\n",
      "|zZUnPeh2hEp0WydbA...|                2010|         3.44|\n",
      "|QaELAmRcDc5TfJEyl...|                2009|         3.08|\n",
      "|xvu8G900tezTzbbfq...|2009,2010,2011,20...|         4.37|\n",
      "|z5_82komKV3mI4ASG...|                2007|         2.88|\n",
      "|ttumcu6hWshk_EJVW...|                    |          4.0|\n",
      "|f4_MRNHvN-yRn7EA8...|2011,2012,2013,20...|         3.63|\n",
      "|UYACF30806j2mfbB5...|                    |         3.75|\n",
      "|QG13XBbgHWydzThRB...|           2008,2009|          4.1|\n",
      "+--------------------+--------------------+-------------+\n",
      "only showing top 10 rows"
     ]
    }
   ],
   "source": [
    "# See necessary columns\n",
    "user.select('user_id','elite', 'average_stars').show(10)"
   ]
  },
  {
   "cell_type": "code",
   "execution_count": 37,
   "metadata": {},
   "outputs": [
    {
     "data": {
      "application/vnd.jupyter.widget-view+json": {
       "model_id": "f68dc73f772e41a3983141a35d1c4aed",
       "version_major": 2,
       "version_minor": 0
      },
      "text/plain": [
       "VBox()"
      ]
     },
     "metadata": {},
     "output_type": "display_data"
    },
    {
     "data": {
      "application/vnd.jupyter.widget-view+json": {
       "model_id": "",
       "version_major": 2,
       "version_minor": 0
      },
      "text/plain": [
       "FloatProgress(value=0.0, bar_style='info', description='Progress:', layout=Layout(height='25px', width='50%'),…"
      ]
     },
     "metadata": {},
     "output_type": "display_data"
    },
    {
     "name": "stdout",
     "output_type": "stream",
     "text": [
      "+--------------------+-------------------+-------------+--------------------+-----+\n",
      "|             user_id|              elite|average_stars|         business_id|stars|\n",
      "+--------------------+-------------------+-------------+--------------------+-----+\n",
      "|1Dul59QEe-Q-7OQHT...|               2017|         3.75|-8F04F54iDT6VgWPC...|  4.0|\n",
      "|3pMczoCBOSKBcqMhV...|               2017|         4.24|p2OOk46G_AOO0nCWl...|  5.0|\n",
      "|jO44Apni7iJZVVK4H...|2010,2011,2012,2013|         3.75|jyFoxS8MofdpkAAK6...|  1.0|\n",
      "|RO78oDy7vbEcOJU8a...|          2017,2018|         3.98|ewty6EB70nwPJsUkA...|  4.0|\n",
      "|TFxeEvpjMNQ3AWL49...|          2017,2018|         3.89|0M3KCmdY-_xlIu5vE...|  5.0|\n",
      "+--------------------+-------------------+-------------+--------------------+-----+\n",
      "only showing top 5 rows"
     ]
    }
   ],
   "source": [
    "# Select only elite users by filter empty value out\n",
    "elite = user.filter(user['elite'] != '').select('user_id', 'elite', 'average_stars')\n",
    "\n",
    "# Select columns from Review dataset\n",
    "review_info = review.select('business_id', 'stars', 'user_id')\n",
    "\n",
    "# Join two dataframes to get the elite's reviews\n",
    "elite_review = elite.join(review_info, elite.user_id == review_info.user_id).drop(review['user_id'])\n",
    "elite_review.show(5)"
   ]
  },
  {
   "cell_type": "code",
   "execution_count": 38,
   "metadata": {},
   "outputs": [
    {
     "data": {
      "application/vnd.jupyter.widget-view+json": {
       "model_id": "3f06e6cf505a43998d6c80fa92603591",
       "version_major": 2,
       "version_minor": 0
      },
      "text/plain": [
       "VBox()"
      ]
     },
     "metadata": {},
     "output_type": "display_data"
    },
    {
     "data": {
      "application/vnd.jupyter.widget-view+json": {
       "model_id": "",
       "version_major": 2,
       "version_minor": 0
      },
      "text/plain": [
       "FloatProgress(value=0.0, bar_style='info', description='Progress:', layout=Layout(height='25px', width='50%'),…"
      ]
     },
     "metadata": {},
     "output_type": "display_data"
    },
    {
     "name": "stdout",
     "output_type": "stream",
     "text": [
      "+--------------------+------------------+\n",
      "|         business_id|        avg(stars)|\n",
      "+--------------------+------------------+\n",
      "|VHsNB3pdGVcRgs6C3...| 3.411764705882353|\n",
      "|RMjCnixEY5i12Ciqn...|3.5316455696202533|\n",
      "|ipFreSFhjClfNETuM...|               2.6|\n",
      "|dLDMU8bOLnkDTmPUr...| 4.942857142857143|\n",
      "|Qm2datcYBPXrPATVG...| 4.352941176470588|\n",
      "+--------------------+------------------+\n",
      "only showing top 5 rows"
     ]
    }
   ],
   "source": [
    "# Get the average starts per each business from Part III\n",
    "business_id_avg_stars.show(5)"
   ]
  },
  {
   "cell_type": "code",
   "execution_count": 39,
   "metadata": {},
   "outputs": [
    {
     "data": {
      "application/vnd.jupyter.widget-view+json": {
       "model_id": "bf1e5df8d8bf4760894071c6d49683b9",
       "version_major": 2,
       "version_minor": 0
      },
      "text/plain": [
       "VBox()"
      ]
     },
     "metadata": {},
     "output_type": "display_data"
    },
    {
     "data": {
      "application/vnd.jupyter.widget-view+json": {
       "model_id": "",
       "version_major": 2,
       "version_minor": 0
      },
      "text/plain": [
       "FloatProgress(value=0.0, bar_style='info', description='Progress:', layout=Layout(height='25px', width='50%'),…"
      ]
     },
     "metadata": {},
     "output_type": "display_data"
    },
    {
     "name": "stdout",
     "output_type": "stream",
     "text": [
      "+--------------------+--------------------+-------------+-----+--------------------+----------------+\n",
      "|             user_id|               elite|average_stars|stars|         business_id|      avg(stars)|\n",
      "+--------------------+--------------------+-------------+-----+--------------------+----------------+\n",
      "|PMz5Pp3g19MjVmUdT...|           2017,2018|         3.79|  5.0|--9e1ONYQuAa-CB_R...|4.11784140969163|\n",
      "|y22jM83qCgsNGryv9...|2012,2013,2014,20...|         3.67|  5.0|--9e1ONYQuAa-CB_R...|4.11784140969163|\n",
      "|jOLdczkaKqfaFb_a_...|           2017,2018|         4.66|  5.0|--9e1ONYQuAa-CB_R...|4.11784140969163|\n",
      "|le3Xn9Mheb1hNxWur...|2010,2011,2012,20...|         3.86|  5.0|--9e1ONYQuAa-CB_R...|4.11784140969163|\n",
      "|ERb2hZxyCN9Wz999z...|           2017,2018|         4.24|  4.0|--9e1ONYQuAa-CB_R...|4.11784140969163|\n",
      "+--------------------+--------------------+-------------+-----+--------------------+----------------+\n",
      "only showing top 5 rows"
     ]
    }
   ],
   "source": [
    "# Join Elite review and Business average stars dataframes\n",
    "elite_review_skew = elite_review.join(business_id_avg_stars, business_id_avg_stars.business_id == elite_review.business_id).drop(elite_review[\"business_id\"])\n",
    "elite_review_skew.show(5)"
   ]
  },
  {
   "cell_type": "code",
   "execution_count": 40,
   "metadata": {},
   "outputs": [
    {
     "data": {
      "application/vnd.jupyter.widget-view+json": {
       "model_id": "9ea94f50a03a4cf89414739b8d87ac20",
       "version_major": 2,
       "version_minor": 0
      },
      "text/plain": [
       "VBox()"
      ]
     },
     "metadata": {},
     "output_type": "display_data"
    },
    {
     "data": {
      "application/vnd.jupyter.widget-view+json": {
       "model_id": "",
       "version_major": 2,
       "version_minor": 0
      },
      "text/plain": [
       "FloatProgress(value=0.0, bar_style='info', description='Progress:', layout=Layout(height='25px', width='50%'),…"
      ]
     },
     "metadata": {},
     "output_type": "display_data"
    },
    {
     "name": "stdout",
     "output_type": "stream",
     "text": [
      "                        user_id  ...      skew\n",
      "0        PMz5Pp3g19MjVmUdT6JTew  ...  0.214228\n",
      "1        y22jM83qCgsNGryv9328gQ  ...  0.214228\n",
      "2        jOLdczkaKqfaFb_a_0A6CA  ...  0.214228\n",
      "3        le3Xn9Mheb1hNxWurF7RSw  ...  0.214228\n",
      "4        ERb2hZxyCN9Wz999z4a7Cg  ... -0.028617\n",
      "...                         ...  ...       ...\n",
      "1756322  EtxsD-Jbyxh7TsaWHtGCew  ...  0.250000\n",
      "1756323  _BQMCYEIfsn_Ldb4W3TjUg  ... -0.642857\n",
      "1756324  MMf0LhEk5tGa1LvN7zcDnA  ...  0.071429\n",
      "1756325  r_B6CZ-gZNKeW1bOzSAXPw  ... -0.785714\n",
      "1756326  pUjccQauq08ICVR480S-Lg  ... -0.700000\n",
      "\n",
      "[1756327 rows x 7 columns]"
     ]
    }
   ],
   "source": [
    "# Calcualte skew value \n",
    "elite_review_skew = elite_review_skew.toPandas()\n",
    "elite_review_skew['skew'] = (elite_review_skew['stars'] - elite_review_skew['avg(stars)']) / elite_review_skew['avg(stars)']\n",
    "elite_review_skew"
   ]
  },
  {
   "cell_type": "markdown",
   "metadata": {},
   "source": [
    "### Skewed Distribution of Elite Reviews"
   ]
  },
  {
   "cell_type": "code",
   "execution_count": 41,
   "metadata": {},
   "outputs": [
    {
     "data": {
      "application/vnd.jupyter.widget-view+json": {
       "model_id": "a7f1e3f0343c4e72bbd7dcef73e1528c",
       "version_major": 2,
       "version_minor": 0
      },
      "text/plain": [
       "VBox()"
      ]
     },
     "metadata": {},
     "output_type": "display_data"
    },
    {
     "data": {
      "application/vnd.jupyter.widget-view+json": {
       "model_id": "",
       "version_major": 2,
       "version_minor": 0
      },
      "text/plain": [
       "FloatProgress(value=0.0, bar_style='info', description='Progress:', layout=Layout(height='25px', width='50%'),…"
      ]
     },
     "metadata": {},
     "output_type": "display_data"
    },
    {
     "data": {
      "image/png": "[encoded data removed]",
      "text/plain": [
       "<IPython.core.display.Image object>"
      ]
     },
     "metadata": {},
     "output_type": "display_data"
    }
   ],
   "source": [
    "plt.figure(figsize=(10,5))\n",
    "sns.distplot(elite_review_skew['skew'], kde = True)\n",
    "plt.title('Skewness of Elite Reviews', size = 20)\n",
    "plt.axis((-1.5, 2, 0, 2))\n",
    "%matplot plt"
   ]
  },
  {
   "cell_type": "markdown",
   "metadata": {},
   "source": [
    "### Calculating Skewness"
   ]
  },
  {
   "cell_type": "code",
   "execution_count": 42,
   "metadata": {},
   "outputs": [
    {
     "data": {
      "application/vnd.jupyter.widget-view+json": {
       "model_id": "b23741a18cad4a028d979ed67d72c2bb",
       "version_major": 2,
       "version_minor": 0
      },
      "text/plain": [
       "VBox()"
      ]
     },
     "metadata": {},
     "output_type": "display_data"
    },
    {
     "data": {
      "application/vnd.jupyter.widget-view+json": {
       "model_id": "",
       "version_major": 2,
       "version_minor": 0
      },
      "text/plain": [
       "FloatProgress(value=0.0, bar_style='info', description='Progress:', layout=Layout(height='25px', width='50%'),…"
      ]
     },
     "metadata": {},
     "output_type": "display_data"
    },
    {
     "name": "stdout",
     "output_type": "stream",
     "text": [
      "Mean:  0.04378\n",
      "Median:  0.05655\n",
      "Standard Deviation:  0.30707\n",
      "Skewness:  -0.12476"
     ]
    }
   ],
   "source": [
    "# Calcuate Pearson's coefficient of skewness with mean, median, and standard deviation\n",
    "# round up values to calaute values easily\n",
    "\n",
    "mean = elite_review_skew['skew'].mean().round(5)\n",
    "median = elite_review_skew['skew'].median().round(5)\n",
    "std_dev = elite_review_skew['skew'].std().round(5)\n",
    "skewness = (3 * (mean-median) / std_dev).round(5)\n",
    "\n",
    "print('Mean: ', mean)\n",
    "print('Median: ', median)\n",
    "print('Standard Deviation: ', std_dev)\n",
    "print('Skewness: ', skewness)"
   ]
  },
  {
   "cell_type": "markdown",
   "metadata": {},
   "source": [
    "### IMPLICATIONS\n",
    "A \"Skewness of Elite Reviews\" graph did not clearly show if skewness is postivie or negative. I calculated Pearson's coefficient of skewness with mean, median, and standard deviation.\n",
    "\n",
    "- The formula to calculate skewness is 3 * (Mean - Median) / Standard Deviation\n",
    "- mean is 0.04378\n",
    "- median is 0.05655\n",
    "- standard deviation is 0.30707\n",
    "\n",
    "As a result, I could get skewness of -0.12476. It is less than 0, so I can say skewness is negative. It shows that Elite users were less satisfied than normal business reviews. They might tend to write critic reviews due to the title of the Elite. It would result in leaving more negative reviews than normal business reviews. Skewness is not a strong negative value and is close to 0. It looks like Elite users do not intentionally leave negative reviews.\n",
    "\n",
    "Elite users would be trusted. However, we don't need to stronlgy trust them or consider only their reviews rather than normal users who left reviews."
   ]
  }
 ],
 "metadata": {
  "kernelspec": {
   "display_name": "PySpark",
   "language": "",
   "name": "pysparkkernel"
  },
  "language_info": {
   "codemirror_mode": {
    "name": "python",
    "version": 2
   },
   "mimetype": "text/x-python",
   "name": "pyspark",
   "pygments_lexer": "python2"
  }
 },
 "nbformat": 4,
 "nbformat_minor": 4
}
